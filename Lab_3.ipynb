{
  "cells": [
    {
      "cell_type": "markdown",
      "metadata": {
        "id": "view-in-github",
        "colab_type": "text"
      },
      "source": [
        "<a href=\"https://colab.research.google.com/github/Kovibordy/nero/blob/main/Lab_3.ipynb\" target=\"_parent\"><img src=\"https://colab.research.google.com/assets/colab-badge.svg\" alt=\"Open In Colab\"/></a>"
      ]
    },
    {
      "cell_type": "markdown",
      "source": [
        "Установка и импорт библиотек"
      ],
      "metadata": {
        "id": "Sj4Yi-q3d7bF"
      }
    },
    {
      "cell_type": "code",
      "source": [
        "pip install scikit-fuzzy\n"
      ],
      "metadata": {
        "id": "RSpmyg71eEqv",
        "outputId": "220acc66-3509-4bb1-a8bc-15b3237cb4cf",
        "colab": {
          "base_uri": "https://localhost:8080/"
        }
      },
      "execution_count": 1,
      "outputs": [
        {
          "output_type": "stream",
          "name": "stdout",
          "text": [
            "Collecting scikit-fuzzy\n",
            "  Downloading scikit_fuzzy-0.5.0-py2.py3-none-any.whl.metadata (2.6 kB)\n",
            "Downloading scikit_fuzzy-0.5.0-py2.py3-none-any.whl (920 kB)\n",
            "\u001b[2K   \u001b[90m━━━━━━━━━━━━━━━━━━━━━━━━━━━━━━━━━━━━━━━━\u001b[0m \u001b[32m920.8/920.8 kB\u001b[0m \u001b[31m8.5 MB/s\u001b[0m eta \u001b[36m0:00:00\u001b[0m\n",
            "\u001b[?25hInstalling collected packages: scikit-fuzzy\n",
            "Successfully installed scikit-fuzzy-0.5.0\n"
          ]
        }
      ]
    },
    {
      "cell_type": "code",
      "source": [
        "import numpy as np\n",
        "import skfuzzy as fuz\n",
        "from skfuzzy import control as ctrl\n"
      ],
      "metadata": {
        "id": "GxQrpNNGeMoG"
      },
      "execution_count": 2,
      "outputs": []
    },
    {
      "cell_type": "markdown",
      "source": [
        "Определение входных и выходных переменных"
      ],
      "metadata": {
        "id": "sCm8VEHdeP-e"
      }
    },
    {
      "cell_type": "markdown",
      "source": [
        "Определим входные переменные:\n",
        "\n",
        "Температура воды в котле (water_temp)\n",
        "Заданная температура (set_temp)\n",
        "Скорость изменения температуры (temp_change)\n",
        "\n",
        "И выходную переменную:\n",
        "\n",
        "Подача топлива (fuel_supply)"
      ],
      "metadata": {
        "id": "P4KlK6O3eRgm"
      }
    },
    {
      "cell_type": "code",
      "source": [
        "water_temp = ctrl.Antecedent(np.arange(0, 101, 1), 'water_temp')  # Температура воды в котле\n",
        "set_temp = ctrl.Antecedent(np.arange(0, 101, 1), 'set_temp')  # Заданная температура\n",
        "temp_change = ctrl.Antecedent(np.arange(-10, 11, 1), 'temp_change')  # Скорость изменения температуры\n",
        "\n",
        "fuel_supply = ctrl.Consequent(np.arange(0, 101, 1), 'fuel_supply')"
      ],
      "metadata": {
        "id": "5OwUxALEeViv"
      },
      "execution_count": 3,
      "outputs": []
    },
    {
      "cell_type": "markdown",
      "source": [
        "Определение функций принадлежности для входных и выходных переменных"
      ],
      "metadata": {
        "id": "vh0Q9Fifeqvx"
      }
    },
    {
      "cell_type": "markdown",
      "source": [
        "1. Температура воды в котле (water_temp):\n",
        "\n",
        "  Низкая (менее 60°C)\n",
        "  Умеренная (60-80°C)\n",
        "  Высокая (более 80°C)\n",
        "2. Заданная температура (set_temp):\n",
        "\n",
        "  Низкая (менее 60°C)\n",
        "  Умеренная (60-80°C)\n",
        "  Высокая (более 80°C)\n",
        "3. Скорость изменения температуры (temp_change):\n",
        "\n",
        "  Убывающая\n",
        "  Постоянная\n",
        "  Растущая\n",
        "4. Подача топлива (fuel_supply):\n",
        "\n",
        "  Низкая\n",
        "  Средняя\n",
        "  Высокая"
      ],
      "metadata": {
        "id": "7zmDBQsQeuRQ"
      }
    },
    {
      "cell_type": "code",
      "source": [
        "# Функции принадлежности для температуры воды\n",
        "water_temp['Low'] = fuz.trimf(water_temp.universe, [0, 0, 60])\n",
        "water_temp['Medium'] = fuz.trimf(water_temp.universe, [50, 70, 80])\n",
        "water_temp['High'] = fuz.trimf(water_temp.universe, [70, 100, 100])\n",
        "\n",
        "# Функции принадлежности для заданной температуры\n",
        "set_temp['Low'] = fuz.trimf(set_temp.universe, [0, 0, 60])\n",
        "set_temp['Medium'] = fuz.trimf(set_temp.universe, [50, 70, 80])\n",
        "set_temp['High'] = fuz.trimf(set_temp.universe, [70, 100, 100])\n",
        "\n",
        "# Функции принадлежности для скорости изменения температуры\n",
        "temp_change['Decreasing'] = fuz.trimf(temp_change.universe, [-10, -10, 0])\n",
        "temp_change['Constant'] = fuz.trimf(temp_change.universe, [-2, 0, 2])\n",
        "temp_change['Increasing'] = fuz.trimf(temp_change.universe, [0, 10, 10])\n",
        "\n",
        "# Функции принадлежности для подачи топлива\n",
        "fuel_supply['Low'] = fuz.trimf(fuel_supply.universe, [0, 0, 50])\n",
        "fuel_supply['Medium'] = fuz.trimf(fuel_supply.universe, [25, 50, 75])\n",
        "fuel_supply['High'] = fuz.trimf(fuel_supply.universe, [50, 100, 100])\n"
      ],
      "metadata": {
        "id": "O7e5tuTwe_ib"
      },
      "execution_count": 4,
      "outputs": []
    },
    {
      "cell_type": "markdown",
      "source": [
        "Определение правил"
      ],
      "metadata": {
        "id": "9Jj7dcbSfE5U"
      }
    },
    {
      "cell_type": "markdown",
      "source": [
        "Теперь составим правила на основе описанных условий:\n",
        "\n",
        "Если температура воды ниже заданной и скорость изменения температуры растущая, увеличить подачу топлива.\n",
        "Если температура воды выше заданной, уменьшить подачу топлива.\n",
        "Если температура воды близка к заданной (в пределах 2°C), поддерживать текущий уровень подачи топлива.\n",
        "Если температура воды ниже заданной и скорость изменения постоянная, увеличить подачу топлива на средний уровень.\n",
        "Если температура воды выше заданной и скорость изменения убывающая, уменьшить подачу топлива на низкий уровень."
      ],
      "metadata": {
        "id": "gdCmjEgXfHzc"
      }
    },
    {
      "cell_type": "code",
      "source": [
        "rule1 = ctrl.Rule(water_temp['Low'] & set_temp['High'] & temp_change['Increasing'], fuel_supply['High'])\n",
        "rule2 = ctrl.Rule(water_temp['High'] & set_temp['Low'], fuel_supply['Low'])\n",
        "rule3 = ctrl.Rule(water_temp['Medium'] & set_temp['Medium'], fuel_supply['Medium'])\n",
        "rule4 = ctrl.Rule(water_temp['Low'] & set_temp['High'] & temp_change['Constant'], fuel_supply['Medium'])\n",
        "rule5 = ctrl.Rule(water_temp['High'] & set_temp['Low'] & temp_change['Decreasing'], fuel_supply['Low'])\n"
      ],
      "metadata": {
        "id": "u-vIB_eNfJyu"
      },
      "execution_count": 5,
      "outputs": []
    },
    {
      "cell_type": "markdown",
      "source": [
        "Создание системы управления"
      ],
      "metadata": {
        "id": "woB3evp3fOc-"
      }
    },
    {
      "cell_type": "code",
      "source": [
        "fuel_ctrl = ctrl.ControlSystem([rule1, rule2, rule3, rule4, rule5])\n",
        "fuel_simulation = ctrl.ControlSystemSimulation(fuel_ctrl)\n"
      ],
      "metadata": {
        "id": "F0FsR_LJfQ23"
      },
      "execution_count": 6,
      "outputs": []
    },
    {
      "cell_type": "markdown",
      "source": [
        "Пример расчета"
      ],
      "metadata": {
        "id": "cj1QYhG1fTlx"
      }
    },
    {
      "cell_type": "code",
      "source": [
        "# Пример входных значений\n",
        "fuel_simulation.input['water_temp'] = 70  # Температура воды\n",
        "fuel_simulation.input['set_temp'] = 75  # Заданная температура\n",
        "fuel_simulation.input['temp_change'] = 1  # Скорость изменения\n",
        "\n",
        "# Выполняем расчет\n",
        "fuel_simulation.compute()\n",
        "\n",
        "# Вывод результата\n",
        "print(f\"Подача топлива: {fuel_simulation.output['fuel_supply']:.2f}\")\n",
        "fuel_supply.view(sim=fuel_simulation)\n"
      ],
      "metadata": {
        "id": "f6piW-uhfVKS",
        "outputId": "51670b4f-912a-4330-e0ce-aad96b584b95",
        "colab": {
          "base_uri": "https://localhost:8080/",
          "height": 468
        }
      },
      "execution_count": 7,
      "outputs": [
        {
          "output_type": "stream",
          "name": "stdout",
          "text": [
            "Подача топлива: 50.00\n"
          ]
        },
        {
          "output_type": "display_data",
          "data": {
            "text/plain": [
              "<Figure size 640x480 with 1 Axes>"
            ],
            "image/png": "[encoded data removed]"
          },
          "metadata": {}
        }
      ]
    }
  ],
  "metadata": {
    "colab": {
      "name": "Добро пожаловать в Colaboratory!",
      "provenance": [],
      "include_colab_link": true
    },
    "kernelspec": {
      "display_name": "Python 3",
      "name": "python3"
    }
  },
  "nbformat": 4,
  "nbformat_minor": 0
}